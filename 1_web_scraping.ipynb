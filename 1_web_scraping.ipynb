{
 "cells": [
  {
   "cell_type": "code",
   "execution_count": 12,
   "id": "e910c8db",
   "metadata": {},
   "outputs": [
    {
     "name": "stdout",
     "output_type": "stream",
     "text": [
      "<Response [200]>\n",
      "None\n"
     ]
    }
   ],
   "source": [
    "import requests\n",
    "from bs4 import BeautifulSoup\n",
    "url=\"https://www.webscraper.io/test-sites/e-commerce/allinone/computers/tablets\"\n",
    "r=requests.get(url)\n",
    "print(r)\n",
    "soup=BeautifulSoup(r.text,\"lxml\")\n",
    "price=(soup.find(\"h4\",{\"class\":\"pull-right price\"}))\n",
    "print(price)"
   ]
  },
  {
   "cell_type": "code",
   "execution_count": 8,
   "id": "87bd654f",
   "metadata": {},
   "outputs": [
    {
     "name": "stdout",
     "output_type": "stream",
     "text": [
      "7\" screen, Android\n"
     ]
    }
   ],
   "source": [
    "desc=(soup.find(\"p\",{\"class\": \"description\"}))\n",
    "print(desc.string)"
   ]
  },
  {
   "cell_type": "code",
   "execution_count": 13,
   "id": "6287b233",
   "metadata": {},
   "outputs": [
    {
     "name": "stdout",
     "output_type": "stream",
     "text": [
      "<p class=\"description card-text\">7\" screen, Android</p>\n"
     ]
    }
   ],
   "source": [
    "print(soup.find(\"p\",class_=\"description\"))"
   ]
  },
  {
   "cell_type": "code",
   "execution_count": 24,
   "id": "6332d714",
   "metadata": {},
   "outputs": [
    {
     "name": "stdout",
     "output_type": "stream",
     "text": [
      "21\n"
     ]
    }
   ],
   "source": [
    "price=(soup.find_all(\"p\",class_=\"description\"))\n",
    "print(len(price))\n"
   ]
  },
  {
   "cell_type": "code",
   "execution_count": 26,
   "id": "426d82b3",
   "metadata": {},
   "outputs": [
    {
     "name": "stdout",
     "output_type": "stream",
     "text": [
      "[<p class=\"description card-text\">7\" screen, Android</p>, <p class=\"description card-text\">Black, 7\" IPS, Quad-Core 1.2GHz, 8GB, Android 4.2</p>, <p class=\"description card-text\">7\" screen, Android, 16GB</p>, <p class=\"description card-text\">7\", 8GB, Wi-Fi, Android 4.2, White</p>, <p class=\"description card-text\">Black, 7\", 1.6GHz Dual-Core, 8GB, Android 4.4</p>, <p class=\"description card-text\">IPS, Dual-Core 1.2GHz, 8GB, Android 4.3</p>, <p class=\"description card-text\">7\" screen, Android, 8GB</p>, <p class=\"description card-text\">6\" screen, wifi</p>, <p class=\"description card-text\">7\", 8GB, Wi-Fi, Android 4.2, Yellow</p>, <p class=\"description card-text\">Blue, 8\" IPS, Quad-Core 1.3GHz, 16GB, Android 4.2</p>, <p class=\"description card-text\">White, 7\", Atom 1.2GHz, 8GB, Android 4.4</p>, <p class=\"description card-text\">Blue, 7\" IPS, Quad-Core 1.3GHz, 8GB, 3G, Android 4.2</p>, <p class=\"description card-text\">Silver, 7\" IPS, Quad-Core 1.2Ghz, 16GB, 3G, Android 4.2</p>, <p class=\"description card-text\">LTE (SM-T235), Quad-Core 1.2GHz, 8GB, Black</p>, <p class=\"description card-text\">16GB, White</p>, <p class=\"description card-text\">White, 10.1\" IPS, 1.6GHz, 2GB, 16GB, Android 4.2</p>, <p class=\"description card-text\">10.1\", 3G, Android 4.0, Garnet Red</p>, <p class=\"description card-text\">12.2\", 32GB, WiFi, Android 4.4, White</p>, <p class=\"description card-text\">Wi-Fi + Cellular, 32GB, Silver</p>, <p class=\"description card-text\">10.1\", 32GB, Black</p>, <p class=\"description card-text\">Wi-Fi, 64GB, Silver</p>]\n"
     ]
    }
   ],
   "source": [
    "print(price)"
   ]
  },
  {
   "cell_type": "code",
   "execution_count": 27,
   "id": "d069e076",
   "metadata": {},
   "outputs": [
    {
     "name": "stdout",
     "output_type": "stream",
     "text": [
      "7\" screen, Android\n",
      "Black, 7\" IPS, Quad-Core 1.2GHz, 8GB, Android 4.2\n",
      "7\" screen, Android, 16GB\n",
      "7\", 8GB, Wi-Fi, Android 4.2, White\n",
      "Black, 7\", 1.6GHz Dual-Core, 8GB, Android 4.4\n",
      "IPS, Dual-Core 1.2GHz, 8GB, Android 4.3\n",
      "7\" screen, Android, 8GB\n",
      "6\" screen, wifi\n",
      "7\", 8GB, Wi-Fi, Android 4.2, Yellow\n",
      "Blue, 8\" IPS, Quad-Core 1.3GHz, 16GB, Android 4.2\n",
      "White, 7\", Atom 1.2GHz, 8GB, Android 4.4\n",
      "Blue, 7\" IPS, Quad-Core 1.3GHz, 8GB, 3G, Android 4.2\n",
      "Silver, 7\" IPS, Quad-Core 1.2Ghz, 16GB, 3G, Android 4.2\n",
      "LTE (SM-T235), Quad-Core 1.2GHz, 8GB, Black\n",
      "16GB, White\n",
      "White, 10.1\" IPS, 1.6GHz, 2GB, 16GB, Android 4.2\n",
      "10.1\", 3G, Android 4.0, Garnet Red\n",
      "12.2\", 32GB, WiFi, Android 4.4, White\n",
      "Wi-Fi + Cellular, 32GB, Silver\n",
      "10.1\", 32GB, Black\n",
      "Wi-Fi, 64GB, Silver\n"
     ]
    }
   ],
   "source": [
    "for i in price:\n",
    "    print(i.text)"
   ]
  },
  {
   "cell_type": "code",
   "execution_count": 28,
   "id": "bb2d956f",
   "metadata": {},
   "outputs": [
    {
     "name": "stdout",
     "output_type": "stream",
     "text": [
      "<p class=\"description card-text\">7\", 8GB, Wi-Fi, Android 4.2, White</p>\n"
     ]
    }
   ],
   "source": [
    "print(price[3])\n",
    "#desc=soup.find_all(\"p\",class_=\"description\")\n",
    "#print(desc[3]) also produces the same output"
   ]
  },
  {
   "cell_type": "code",
   "execution_count": 30,
   "id": "9439f199",
   "metadata": {},
   "outputs": [],
   "source": [
    "import re"
   ]
  },
  {
   "cell_type": "code",
   "execution_count": 34,
   "id": "339fddcd",
   "metadata": {},
   "outputs": [
    {
     "name": "stdout",
     "output_type": "stream",
     "text": [
      "['Galaxy Tab 3', 'Galaxy Tab 3']\n"
     ]
    }
   ],
   "source": [
    "data=soup.find_all(string=\"Galaxy Tab 3\")\n",
    "print(data)"
   ]
  },
  {
   "cell_type": "code",
   "execution_count": 36,
   "id": "7de4c789",
   "metadata": {},
   "outputs": [
    {
     "name": "stdout",
     "output_type": "stream",
     "text": [
      "['Galaxy Tab 3', 'Galaxy Tab 3', 'Galaxy Tab 4', 'Galaxy Tab', 'Galaxy Note', 'Galaxy Note', 'Galaxy Note 10...']\n"
     ]
    }
   ],
   "source": [
    "data=soup.find_all(string=re.compile(\"Galaxy\"))\n",
    "print(data)"
   ]
  },
  {
   "cell_type": "code",
   "execution_count": 37,
   "id": "9431d0ff",
   "metadata": {},
   "outputs": [
    {
     "name": "stdout",
     "output_type": "stream",
     "text": [
      "['Lenovo IdeaTab', 'IdeaTab A3500L', 'IdeaTab A8-50', 'IdeaTab A3500-...', 'IdeaTab S5000']\n"
     ]
    }
   ],
   "source": [
    "data=soup.find_all(string=re.compile(\"Idea\"))\n",
    "print(data)"
   ]
  },
  {
   "cell_type": "code",
   "execution_count": 38,
   "id": "04596fa2",
   "metadata": {},
   "outputs": [
    {
     "name": "stdout",
     "output_type": "stream",
     "text": [
      "['\\n\\t\\t\\t\\t\\t\\t\\tTablets\\n\\t\\t\\t\\t\\t\\t', 'Computers / Tablets', 'Lenovo IdeaTab', 'IdeaTab A3500L', 'Galaxy Tab 3', 'Galaxy Tab 3', 'IdeaTab A8-50', 'IdeaTab A3500-...', 'IdeaTab S5000', 'Galaxy Tab 4', 'Galaxy Tab']\n"
     ]
    }
   ],
   "source": [
    "data=soup.find_all(string=re.compile(\"Tab\"))\n",
    "print(data)"
   ]
  },
  {
   "cell_type": "code",
   "execution_count": 39,
   "id": "2f5da611",
   "metadata": {},
   "outputs": [],
   "source": [
    "import pandas as pd"
   ]
  },
  {
   "cell_type": "code",
   "execution_count": 40,
   "id": "1bf4dfc9",
   "metadata": {},
   "outputs": [
    {
     "name": "stdout",
     "output_type": "stream",
     "text": [
      "[<a class=\"title\" href=\"/test-sites/e-commerce/allinone/product/10\" title=\"Lenovo IdeaTab\">Lenovo IdeaTab</a>, <a class=\"title\" href=\"/test-sites/e-commerce/allinone/product/15\" title=\"IdeaTab A3500L\">IdeaTab A3500L</a>, <a class=\"title\" href=\"/test-sites/e-commerce/allinone/product/11\" title=\"Acer Iconia\">Acer Iconia</a>, <a class=\"title\" href=\"/test-sites/e-commerce/allinone/product/18\" title=\"Galaxy Tab 3\">Galaxy Tab 3</a>, <a class=\"title\" href=\"/test-sites/e-commerce/allinone/product/27\" title=\"Iconia B1-730HD\">Iconia B1-730H...</a>, <a class=\"title\" href=\"/test-sites/e-commerce/allinone/product/23\" title=\"Memo Pad HD 7\">Memo Pad HD 7</a>, <a class=\"title\" href=\"/test-sites/e-commerce/allinone/product/12\" title=\"Asus MeMO Pad\">Asus MeMO Pad</a>, <a class=\"title\" href=\"/test-sites/e-commerce/allinone/product/13\" title=\"Amazon Kindle\">Amazon Kindle</a>, <a class=\"title\" href=\"/test-sites/e-commerce/allinone/product/22\" title=\"Galaxy Tab 3\">Galaxy Tab 3</a>, <a class=\"title\" href=\"/test-sites/e-commerce/allinone/product/28\" title=\"IdeaTab A8-50\">IdeaTab A8-50</a>, <a class=\"title\" href=\"/test-sites/e-commerce/allinone/product/20\" title=\"MeMO Pad 7\">MeMO Pad 7</a>, <a class=\"title\" href=\"/test-sites/e-commerce/allinone/product/17\" title=\"IdeaTab A3500-H\">IdeaTab A3500-...</a>, <a class=\"title\" href=\"/test-sites/e-commerce/allinone/product/26\" title=\"IdeaTab S5000\">IdeaTab S5000</a>, <a class=\"title\" href=\"/test-sites/e-commerce/allinone/product/21\" title=\"Galaxy Tab 4\">Galaxy Tab 4</a>, <a class=\"title\" href=\"/test-sites/e-commerce/allinone/product/16\" title=\"Galaxy Tab\">Galaxy Tab</a>, <a class=\"title\" href=\"/test-sites/e-commerce/allinone/product/25\" title=\"MeMo PAD FHD 10\">MeMo PAD FHD 1...</a>, <a class=\"title\" href=\"/test-sites/e-commerce/allinone/product/29\" title=\"Galaxy Note\">Galaxy Note</a>, <a class=\"title\" href=\"/test-sites/e-commerce/allinone/product/19\" title=\"Galaxy Note\">Galaxy Note</a>, <a class=\"title\" href=\"/test-sites/e-commerce/allinone/product/14\" title=\"iPad Mini Retina\">iPad Mini Reti...</a>, <a class=\"title\" href=\"/test-sites/e-commerce/allinone/product/24\" title=\"Galaxy Note 10.1\">Galaxy Note 10...</a>, <a class=\"title\" href=\"/test-sites/e-commerce/allinone/product/30\" title=\"Apple iPad Air\">Apple iPad Air</a>]\n"
     ]
    }
   ],
   "source": [
    "names=soup.find_all(\"a\",class_=\"title\")\n",
    "print(names)"
   ]
  },
  {
   "cell_type": "code",
   "execution_count": 41,
   "id": "ff2c2ac0",
   "metadata": {},
   "outputs": [
    {
     "name": "stdout",
     "output_type": "stream",
     "text": [
      "['Lenovo IdeaTab', 'IdeaTab A3500L', 'Acer Iconia', 'Galaxy Tab 3', 'Iconia B1-730H...', 'Memo Pad HD 7', 'Asus MeMO Pad', 'Amazon Kindle', 'Galaxy Tab 3', 'IdeaTab A8-50', 'MeMO Pad 7', 'IdeaTab A3500-...', 'IdeaTab S5000', 'Galaxy Tab 4', 'Galaxy Tab', 'MeMo PAD FHD 1...', 'Galaxy Note', 'Galaxy Note', 'iPad Mini Reti...', 'Galaxy Note 10...', 'Apple iPad Air']\n"
     ]
    }
   ],
   "source": [
    "product_names=[]\n",
    "for i in names:\n",
    "    name=i.text\n",
    "    product_names.append(name)\n",
    "\n",
    "print(product_names)"
   ]
  },
  {
   "cell_type": "code",
   "execution_count": null,
   "id": "1238a049",
   "metadata": {},
   "outputs": [],
   "source": []
  }
 ],
 "metadata": {
  "kernelspec": {
   "display_name": "Python 3 (ipykernel)",
   "language": "python",
   "name": "python3"
  },
  "language_info": {
   "codemirror_mode": {
    "name": "ipython",
    "version": 3
   },
   "file_extension": ".py",
   "mimetype": "text/x-python",
   "name": "python",
   "nbconvert_exporter": "python",
   "pygments_lexer": "ipython3",
   "version": "3.9.7"
  }
 },
 "nbformat": 4,
 "nbformat_minor": 5
}
